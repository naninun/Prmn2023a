{
  "nbformat": 4,
  "nbformat_minor": 0,
  "metadata": {
    "colab": {
      "provenance": [],
      "toc_visible": true,
      "include_colab_link": true
    },
    "kernelspec": {
      "name": "python3",
      "display_name": "Python 3"
    },
    "language_info": {
      "name": "python"
    }
  },
  "cells": [
    {
      "cell_type": "markdown",
      "metadata": {
        "id": "view-in-github",
        "colab_type": "text"
      },
      "source": [
        "<a href=\"https://colab.research.google.com/github/naninun/Prmn2023a/blob/main/my_answer/PythonBasici_2_Myanswer.ipynb\" target=\"_parent\"><img src=\"https://colab.research.google.com/assets/colab-badge.svg\" alt=\"Open In Colab\"/></a>"
      ]
    },
    {
      "cell_type": "markdown",
      "source": [
        "# 第2章 課題"
      ],
      "metadata": {
        "id": "C44SsXDACtHu"
      }
    },
    {
      "cell_type": "markdown",
      "source": [
        "## 課題1"
      ],
      "metadata": {
        "id": "OnkezWHRCwr9"
      }
    },
    {
      "cell_type": "markdown",
      "source": [
        "for文を使って、以下のように出力してください"
      ],
      "metadata": {
        "id": "q32rK-cECzCl"
      }
    },
    {
      "cell_type": "markdown",
      "source": [
        "![oSFeQoX.png](https://i.imgur.com/oSFeQoX.png)"
      ],
      "metadata": {
        "id": "FxMcxznVB6cI"
      }
    },
    {
      "cell_type": "code",
      "source": [
        "# 入力用\n",
        "n=4\n",
        "for i in range(1,n+1):\n",
        "  print(' '*(n-i)+'*'*(2*i-1))"
      ],
      "metadata": {
        "id": "iBFSsrdRC5Zt",
        "outputId": "a2b4c4f5-f7c3-4b5c-8cb5-38fd36e8066f",
        "colab": {
          "base_uri": "https://localhost:8080/"
        }
      },
      "execution_count": null,
      "outputs": [
        {
          "output_type": "stream",
          "name": "stdout",
          "text": [
            "   *\n",
            "  ***\n",
            " *****\n",
            "*******\n"
          ]
        }
      ]
    },
    {
      "cell_type": "markdown",
      "source": [
        "## 課題2"
      ],
      "metadata": {
        "id": "gIn-UqGTCagu"
      }
    },
    {
      "cell_type": "markdown",
      "source": [
        "課題1の場合を`n=4`として、nを自分で設定して出力できるようにしてください"
      ],
      "metadata": {
        "id": "ltdiEdqYDFy8"
      }
    },
    {
      "cell_type": "markdown",
      "source": [
        "＜例＞ n=5の場合  \n",
        "![o5NjugQ.png](https://imgur.com/o5NjugQ.png)"
      ],
      "metadata": {
        "id": "hw0FM8BRDHz1"
      }
    },
    {
      "cell_type": "code",
      "source": [
        "# 入力用\n",
        "x=input()\n",
        "n=int(x)\n",
        "for i in range(1,n+1):\n",
        "  print(' '*(n-i)+'*'*(2*i-1))\n"
      ],
      "metadata": {
        "id": "upd76Tv-FrIB",
        "outputId": "4e9ff989-e54a-4bfc-bfcc-f9733a10f361",
        "colab": {
          "base_uri": "https://localhost:8080/"
        }
      },
      "execution_count": null,
      "outputs": [
        {
          "output_type": "stream",
          "name": "stdout",
          "text": [
            "5\n",
            "    *\n",
            "   ***\n",
            "  *****\n",
            " *******\n",
            "*********\n"
          ]
        }
      ]
    },
    {
      "cell_type": "markdown",
      "source": [
        "## 課題3"
      ],
      "metadata": {
        "id": "tLMJvwBDE7wT"
      }
    },
    {
      "cell_type": "markdown",
      "source": [
        "for文を使って、以下のように出力してください"
      ],
      "metadata": {
        "id": "vZNvWsG7E99q"
      }
    },
    {
      "cell_type": "markdown",
      "source": [
        "![oSirXec.png](https://imgur.com/oSirXec.png)"
      ],
      "metadata": {
        "id": "ijOV-ilXGDNR"
      }
    },
    {
      "cell_type": "code",
      "source": [
        "# 入力用\n",
        "n=4\n",
        "for i in range(1,n+1):\n",
        "  print(' '*(n-i)+'*'*(2*i-1))\n",
        "for i in range(n-1,0,-1):\n",
        "  print(' '*(n-i)+'*'*(2*i-1))"
      ],
      "metadata": {
        "id": "Q5Ob9uZpGIE3",
        "outputId": "71f18f3d-222f-47d5-eb26-3353ed3cb7cd",
        "colab": {
          "base_uri": "https://localhost:8080/"
        }
      },
      "execution_count": null,
      "outputs": [
        {
          "output_type": "stream",
          "name": "stdout",
          "text": [
            "   *\n",
            "  ***\n",
            " *****\n",
            "*******\n",
            " *****\n",
            "  ***\n",
            "   *\n"
          ]
        }
      ]
    },
    {
      "cell_type": "markdown",
      "source": [
        "## 課題4"
      ],
      "metadata": {
        "id": "Oh7whOPkGQ3I"
      }
    },
    {
      "cell_type": "markdown",
      "source": [
        "課題3の場合を`n=4`として、nを自分で設定して出力できるようにしてください"
      ],
      "metadata": {
        "id": "PnvT8MQbGS03"
      }
    },
    {
      "cell_type": "markdown",
      "source": [
        "＜例＞ n=5の場合  \n",
        "\n",
        "![my4J17V.png](https://i.imgur.com/my4J17V.png)"
      ],
      "metadata": {
        "id": "ZujkAbVMGzhn"
      }
    },
    {
      "cell_type": "code",
      "source": [
        "# 入力用\n",
        "x=input()\n",
        "n=int(x)\n",
        "for i in range(1,n+1):\n",
        "  print(' '*(n-i)+'*'*(2*i-1))\n",
        "for i in range(n-1,0,-1):\n",
        "  print(' '*(n-i)+'*'*(2*i-1))\n"
      ],
      "metadata": {
        "id": "hCFNQ7mWG99u",
        "outputId": "1f8f8d0c-a9d1-47c4-fee7-0b2efa607bef",
        "colab": {
          "base_uri": "https://localhost:8080/"
        }
      },
      "execution_count": null,
      "outputs": [
        {
          "output_type": "stream",
          "name": "stdout",
          "text": [
            "5\n",
            "    *\n",
            "   ***\n",
            "  *****\n",
            " *******\n",
            "*********\n",
            " *******\n",
            "  *****\n",
            "   ***\n",
            "    *\n"
          ]
        }
      ]
    },
    {
      "cell_type": "markdown",
      "source": [
        "## 課題5"
      ],
      "metadata": {
        "id": "R2MvOK4wHJlK"
      }
    },
    {
      "cell_type": "markdown",
      "source": [
        "for文を使って、以下のように出力してください"
      ],
      "metadata": {
        "id": "ddMIUoaKHcwd"
      }
    },
    {
      "cell_type": "markdown",
      "source": [
        "![vDUi5eM.png](https://imgur.com/vDUi5eM.png)"
      ],
      "metadata": {
        "id": "CD1cVUlWHLVO"
      }
    },
    {
      "cell_type": "code",
      "source": [
        "# 入力用\n",
        "n=4\n",
        "for i in range(1,n+1):\n",
        "  if i==4:\n",
        "    print(' '*(n-i)+'*'*(2*i-1)+' '*(n-i-1)+' '*(n-i)+'*'*(2*i-2))\n",
        "  else:\n",
        "    print(' '*(n-i)+'*'*(2*i-1)+' '*(n-i-1)+' '*(n-i)+'*'*(2*i-1))\n",
        "for i in range(n-1,0,-1):\n",
        "  print(' '*(n-i)+'*'*(2*i-1)+' '*(n-i-1)+' '*(n-i)+'*'*(2*i-1))\n"
      ],
      "metadata": {
        "id": "1pDkfJpUHd93",
        "outputId": "d89d05ba-d5f2-4399-9b59-b3c125c876be",
        "colab": {
          "base_uri": "https://localhost:8080/"
        }
      },
      "execution_count": null,
      "outputs": [
        {
          "output_type": "stream",
          "name": "stdout",
          "text": [
            "   *     *\n",
            "  ***   ***\n",
            " ***** *****\n",
            "*************\n",
            " ***** *****\n",
            "  ***   ***\n",
            "   *     *\n"
          ]
        }
      ]
    },
    {
      "cell_type": "markdown",
      "source": [
        "## 課題6"
      ],
      "metadata": {
        "id": "oubbafOBHerl"
      }
    },
    {
      "cell_type": "markdown",
      "source": [
        "課題5の場合を`n=4`として、nを自分で設定して出力できるようにしてください"
      ],
      "metadata": {
        "id": "7SzgFdC-HzG9"
      }
    },
    {
      "cell_type": "markdown",
      "source": [
        "＜例＞ n=5の場合  \n",
        "\n",
        "![udkVlYG.png](https://imgur.com/udkVlYG.png)"
      ],
      "metadata": {
        "id": "LY8g9PVPH2OW"
      }
    },
    {
      "cell_type": "code",
      "source": [
        "# 入力用\n",
        "x=input()\n",
        "n=int(x)\n",
        "for i in range(1,n+1):\n",
        "  if i==n:\n",
        "    print(' '*(n-i)+'*'*(2*i-1)+' '*(n-i-1)+' '*(n-i)+'*'*(2*i-2))\n",
        "  else:\n",
        "    print(' '*(n-i)+'*'*(2*i-1)+' '*(n-i-1)+' '*(n-i)+'*'*(2*i-1))\n",
        "for i in range(n-1,0,-1):\n",
        "  print(' '*(n-i)+'*'*(2*i-1)+' '*(n-i-1)+' '*(n-i)+'*'*(2*i-1))\n",
        "\n"
      ],
      "metadata": {
        "id": "XZOK5ulbH-tu",
        "outputId": "a66c82da-8e91-4661-c217-57c534cb2fc8",
        "colab": {
          "base_uri": "https://localhost:8080/"
        }
      },
      "execution_count": null,
      "outputs": [
        {
          "output_type": "stream",
          "name": "stdout",
          "text": [
            "5\n",
            "    *       *\n",
            "   ***     ***\n",
            "  *****   *****\n",
            " ******* *******\n",
            "*****************\n",
            " ******* *******\n",
            "  *****   *****\n",
            "   ***     ***\n",
            "    *       *\n"
          ]
        }
      ]
    },
    {
      "cell_type": "markdown",
      "source": [
        "## 課題7"
      ],
      "metadata": {
        "id": "ouqTUmPQIKGF"
      }
    },
    {
      "cell_type": "markdown",
      "source": [
        "for文を使って、以下のように出力してください"
      ],
      "metadata": {
        "id": "WHSxdOHuIMRM"
      }
    },
    {
      "cell_type": "markdown",
      "source": [
        "![IuP0M16.png](https://imgur.com/IuP0M16.png)"
      ],
      "metadata": {
        "id": "-G--WFTkIM8s"
      }
    },
    {
      "cell_type": "code",
      "source": [
        "# 入力用\n",
        "n=4\n",
        "for y in range(2):\n",
        "  if y==1:\n",
        "    for i in range(1,n+1):\n",
        "      if i==4:\n",
        "        print(' '*(n-i)+'*'*(2*i-1)+' '*(n-i-1)+' '*(n-i)+'*'*(2*i-2))\n",
        "      else:\n",
        "        print(' '*(n-i)+'*'*(2*i-1)+' '*(n-i-1)+' '*(n-i)+'*'*(2*i-1))\n",
        "    for i in range(n-1,0,-1):\n",
        "      if i==1:\n",
        "        pass\n",
        "      else:\n",
        "        print(' '*(n-i)+'*'*(2*i-1)+' '*(n-i-1)+' '*(n-i)+'*'*(2*i-1))\n",
        "    else:\n",
        "      for i in range(1,n+1):\n",
        "        if i==4:\n",
        "          print(' '*(n-i)+'*'*(2*i-1)+' '*(n-i-1)+' '*(n-i)+'*'*(2*i-2))\n",
        "        else:\n",
        "          print(' '*(n-i)+'*'*(2*i-1)+' '*(n-i-1)+' '*(n-i)+'*'*(2*i-1))\n",
        "      for i in range(n-1,0,-1):\n",
        "          print(' '*(n-i)+'*'*(2*i-1)+' '*(n-i-1)+' '*(n-i)+'*'*(2*i-1))\n",
        "\n"
      ],
      "metadata": {
        "id": "BVXjDteuIijL",
        "outputId": "00bbc280-ee04-404b-bcb0-fcbf9190280a",
        "colab": {
          "base_uri": "https://localhost:8080/"
        }
      },
      "execution_count": null,
      "outputs": [
        {
          "output_type": "stream",
          "name": "stdout",
          "text": [
            "   *     *\n",
            "  ***   ***\n",
            " ***** *****\n",
            "*************\n",
            " ***** *****\n",
            "  ***   ***\n",
            "   *     *\n",
            "  ***   ***\n",
            " ***** *****\n",
            "*************\n",
            " ***** *****\n",
            "  ***   ***\n",
            "   *     *\n"
          ]
        }
      ]
    },
    {
      "cell_type": "markdown",
      "source": [
        "## 課題8"
      ],
      "metadata": {
        "id": "31u0ExX2IjWj"
      }
    },
    {
      "cell_type": "markdown",
      "source": [
        "課題7の場合を`n=4`として、nを自分で設定して出力できるようにしてください"
      ],
      "metadata": {
        "id": "zeOvmKarInpz"
      }
    },
    {
      "cell_type": "markdown",
      "source": [
        "＜例＞ n=5の場合  \n",
        "\n",
        "![AlTnu1k.png](https://imgur.com/AlTnu1k.png)"
      ],
      "metadata": {
        "id": "2uLR5sbKIov2"
      }
    },
    {
      "cell_type": "code",
      "source": [
        "# 入力用\n",
        "x=input()\n",
        "n=int(x)\n",
        "for y in range(2):\n",
        "  if y==1:\n",
        "    for i in range(1,n+1):\n",
        "      if i==n:\n",
        "        print(' '*(n-i)+'*'*(2*i-1)+' '*(n-i-1)+' '*(n-i)+'*'*(2*i-2))\n",
        "      else:\n",
        "        print(' '*(n-i)+'*'*(2*i-1)+' '*(n-i-1)+' '*(n-i)+'*'*(2*i-1))\n",
        "    for i in range(n-1,0,-1):\n",
        "      if i==1:\n",
        "        pass\n",
        "      else:\n",
        "        print(' '*(n-i)+'*'*(2*i-1)+' '*(n-i-1)+' '*(n-i)+'*'*(2*i-1))\n",
        "    else:\n",
        "      for i in range(1,n+1):\n",
        "        if i==n:\n",
        "          print(' '*(n-i)+'*'*(2*i-1)+' '*(n-i-1)+' '*(n-i)+'*'*(2*i-2))\n",
        "        else:\n",
        "          print(' '*(n-i)+'*'*(2*i-1)+' '*(n-i-1)+' '*(n-i)+'*'*(2*i-1))\n",
        "      for i in range(n-1,0,-1):\n",
        "          print(' '*(n-i)+'*'*(2*i-1)+' '*(n-i-1)+' '*(n-i)+'*'*(2*i-1))\n",
        "\n",
        "\n"
      ],
      "metadata": {
        "id": "TXJaIVbYI_Cd",
        "outputId": "fc74b15d-9a7b-4916-8b22-1f124c9eb9e1",
        "colab": {
          "base_uri": "https://localhost:8080/"
        }
      },
      "execution_count": null,
      "outputs": [
        {
          "output_type": "stream",
          "name": "stdout",
          "text": [
            "5\n",
            "    *       *\n",
            "   ***     ***\n",
            "  *****   *****\n",
            " ******* *******\n",
            "*****************\n",
            " ******* *******\n",
            "  *****   *****\n",
            "   ***     ***\n",
            "    *       *\n",
            "   ***     ***\n",
            "  *****   *****\n",
            " ******* *******\n",
            "*****************\n",
            " ******* *******\n",
            "  *****   *****\n",
            "   ***     ***\n",
            "    *       *\n"
          ]
        }
      ]
    }
  ]
}