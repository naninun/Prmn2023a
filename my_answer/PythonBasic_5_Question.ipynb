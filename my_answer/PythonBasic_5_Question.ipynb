{
  "nbformat": 4,
  "nbformat_minor": 0,
  "metadata": {
    "colab": {
      "provenance": [],
      "toc_visible": true
    },
    "kernelspec": {
      "name": "python3",
      "display_name": "Python 3"
    },
    "language_info": {
      "name": "python"
    }
  },
  "cells": [
    {
      "cell_type": "markdown",
      "source": [
        "<a href=\"https://colab.research.google.com/github/kiryu-3/Prmn2023/blob/main/Python/Python_Basic/question/PythonBasic_5_Question.ipynb\" target=\"_parent\"><img src=\"https://colab.research.google.com/assets/colab-badge.svg\" alt=\"Open In Colab\"/></a>"
      ],
      "metadata": {
        "id": "TA5kKi-LY1xg"
      }
    },
    {
      "cell_type": "markdown",
      "source": [
        "# 第5章 課題"
      ],
      "metadata": {
        "id": "r-kcfL2yEU8b"
      }
    },
    {
      "cell_type": "markdown",
      "source": [
        "## 課題1"
      ],
      "metadata": {
        "id": "RWo2DmBs_2c4"
      }
    },
    {
      "cell_type": "markdown",
      "source": [
        "1桁の自然数を乱数を使って5つ格納した2つのリストを作ってください。  \n",
        "この時、一つのリスト内で5つの値が重複しないようにしてください\n",
        "\n",
        "その後、そのリストから重複する要素を削除した新しいリストと、   \n",
        "共通の要素を持つ新しいリストを出力してください"
      ],
      "metadata": {
        "id": "QRNvqmTgE8Ww"
      }
    },
    {
      "cell_type": "markdown",
      "source": [
        "＜実行結果例＞\n",
        "``` py  \n",
        "1つ目のリスト：[1, 2, 3, 4, 5]  \n",
        "2つ目のリスト：[1, 3, 5, 7, 9]  \n",
        "重複削除リスト：[1, 2, 3, 4, 5, 7, 9] \n",
        "共通要素リスト：[1, 3, 5]\n",
        "```"
      ],
      "metadata": {
        "id": "Goi4CqGxFOpn"
      }
    },
    {
      "cell_type": "markdown",
      "source": [
        "＜ヒント＞ set関数を用いても用いなくても答えは出せます。"
      ],
      "metadata": {
        "id": "iEOFeFjqkkyS"
      }
    },
    {
      "cell_type": "code",
      "source": [
        "# 入力用\n",
        "import random\n",
        "list1 = random.sample(range(1,10),5)\n",
        "list2 = random.sample(range(1,10),5)\n",
        "set1=set(list1)\n",
        "set2=set(list2)\n",
        "print('1つ目のリスト:',set1)\n",
        "print('2つ目のリスト:',set2)\n",
        "print('重複削除リスト:',set1|set2)\n",
        "print('共通要素リスト:',set1&set2)"
      ],
      "metadata": {
        "id": "pQdhCOALMGWj",
        "outputId": "5f867540-4dfc-4e38-c2d0-b54e4605e8e5",
        "colab": {
          "base_uri": "https://localhost:8080/"
        }
      },
      "execution_count": 2,
      "outputs": [
        {
          "output_type": "stream",
          "name": "stdout",
          "text": [
            "1つ目のリスト: {1, 2, 3, 4, 9}\n",
            "2つ目のリスト: {1, 3, 6, 8, 9}\n",
            "重複削除リスト: {1, 2, 3, 4, 6, 8, 9}\n",
            "共通要素リスト: {1, 3, 9}\n"
          ]
        }
      ]
    },
    {
      "cell_type": "markdown",
      "source": [
        "## 課題2"
      ],
      "metadata": {
        "id": "-qZw_n3X8xrW"
      }
    },
    {
      "cell_type": "markdown",
      "source": [
        "共通のキーを持つ辞書を要素とするリストから、特定のキーの値のリストを取得してみます。"
      ],
      "metadata": {
        "id": "vxwATeobQf_U"
      }
    },
    {
      "cell_type": "markdown",
      "source": [
        "以下のリストから、都道府県コード・都道府県・県庁所在地それぞれのリストを作成してください\n",
        "\n",
        "キーが存在しないところがある点に注意してください"
      ],
      "metadata": {
        "id": "tGPa1uU6Qs2c"
      }
    },
    {
      "cell_type": "code",
      "source": [
        "todohuken_data = [{\"コード\": 24, \"都道府県\": \"三重\", \"県庁所在地\": \"津\"},\n",
        "                  {\"コード\": 25, \"都道府県\": \"滋賀\", \"県庁所在地\": \"大津\"},\n",
        "                  {\"コード\": 31, \"都道府県\": \"鳥取\"},\n",
        "                  {\"コード\": 32, \"都道府県\": \"島根\", \"県庁所在地\": \"松江\"},\n",
        "                  {\"コード\": 37, \"都道府県\": \"香川\", \"県庁所在地\": \"高松\"},\n",
        "                  {\"コード\": 38, \"都道府県\": \"愛媛\", \"県庁所在地\": \"松山\"},]"
      ],
      "metadata": {
        "id": "8ZdyRWbERGAY"
      },
      "execution_count": 3,
      "outputs": []
    },
    {
      "cell_type": "markdown",
      "source": [
        "＜出力結果例＞  \n",
        "``` py\n",
        "[24, 25, 31, 32, 37, 38]  \n",
        "['三重', '滋賀', '鳥取', '島根', '香川', '愛媛']\n",
        "['津', '大津', None, '松江', '高松', '松山']\n",
        "```"
      ],
      "metadata": {
        "id": "dQ2n3OMSUXh2"
      }
    },
    {
      "cell_type": "code",
      "source": [
        "# 入力用\n",
        "cord=[i.get(\"コード\")for i in todohuken_data]\n",
        "todohuken=[i.get(\"都道府県\")for i in todohuken_data]\n",
        "tyo=[i.get(\"県庁所在地\")for i in todohuken_data]\n",
        "print(cord)\n",
        "print(todohuken)\n",
        "print(tyo)\n"
      ],
      "metadata": {
        "id": "duwCERgQUify",
        "outputId": "22fa740c-133b-491c-9d4f-c919333aedf7",
        "colab": {
          "base_uri": "https://localhost:8080/"
        }
      },
      "execution_count": 4,
      "outputs": [
        {
          "output_type": "stream",
          "name": "stdout",
          "text": [
            "[24, 25, 31, 32, 37, 38]\n",
            "['三重', '滋賀', '鳥取', '島根', '香川', '愛媛']\n",
            "['津', '大津', None, '松江', '高松', '松山']\n"
          ]
        }
      ]
    },
    {
      "cell_type": "markdown",
      "source": [
        "## 課題3"
      ],
      "metadata": {
        "id": "1S8kadYgq_gV"
      }
    },
    {
      "cell_type": "markdown",
      "source": [
        "ある文字列が与えられた場合、文字列内の各文字の出現回数をディクショナリの形で返してください\n",
        "\n",
        "大文字と小文字は区別してください  \n",
        "また、出力時はアルファベット順にソートした状態にしてください"
      ],
      "metadata": {
        "id": "OdSKG7k9rA7V"
      }
    },
    {
      "cell_type": "markdown",
      "source": [
        "＜実行結果例＞　「Hello, World!」の各文字のカウント\n",
        "``` py\n",
        "{'H': 1, 'W': 1, 'd': 1, 'e': 1, 'l': 3, 'o': 2, 'r': 1}\n",
        "```"
      ],
      "metadata": {
        "id": "p0suMufQuEzI"
      }
    },
    {
      "cell_type": "code",
      "source": [
        "# 入力用\n",
        "\n",
        "string = input()\n",
        "\n",
        "# アルファベット以外の文字を削除 最初に実行してください\n",
        "string = ''.join(c for c in string if c.isalpha())\n",
        "x=[]\n",
        "y=[]\n",
        "z=[]\n",
        "for i in range(len(string)):\n",
        "  if(string[i]not in x):\n",
        "    x.append(string[i])\n",
        "y=sorted(x)\n",
        "for i in y:\n",
        "  z.append(string.count(i))\n",
        "  dic=dict(zip(y,z))\n",
        "\n",
        "print(dic)"
      ],
      "metadata": {
        "id": "bHv50oDhrdzN",
        "outputId": "077ebc16-9a59-49de-af4f-e9a789c2d7c3",
        "colab": {
          "base_uri": "https://localhost:8080/"
        }
      },
      "execution_count": 16,
      "outputs": [
        {
          "output_type": "stream",
          "name": "stdout",
          "text": [
            "Hello, World!\n",
            "{'H': 1, 'W': 1, 'd': 1, 'e': 1, 'l': 3, 'o': 2, 'r': 1}\n"
          ]
        }
      ]
    },
    {
      "cell_type": "markdown",
      "source": [
        "## 課題4"
      ],
      "metadata": {
        "id": "W573lh39MOlj"
      }
    },
    {
      "cell_type": "markdown",
      "source": [
        "ある大学の名前と年齢が、次のような形式で格納されたディクショナリ `university_dic` があります。"
      ],
      "metadata": {
        "id": "sSIMKY-aNcIx"
      }
    },
    {
      "cell_type": "code",
      "source": [
        "university_dic = {\n",
        "    \"Chitose\" : 25,\n",
        "    \"Hokudai\" : 105,\n",
        "    \"Muroran\" : 74,\n",
        "    \"Hakodate\": 23,\n",
        "}"
      ],
      "metadata": {
        "id": "v-wGyWuKK3wl"
      },
      "execution_count": 19,
      "outputs": []
    },
    {
      "cell_type": "markdown",
      "source": [
        "このリストを、年齢順にソートして、新たなディクショナリとして出力してください"
      ],
      "metadata": {
        "id": "XIxDf9QgO1iH"
      }
    },
    {
      "cell_type": "markdown",
      "source": [
        "＜実行結果＞  \n",
        "``` py\n",
        "{'Hakodate': 23, 'Chitose': 25, 'Muroran': 74, 'Hokudai': 105}\n",
        "```"
      ],
      "metadata": {
        "id": "0Z2-_1dAQENU"
      }
    },
    {
      "cell_type": "code",
      "source": [
        "# 入力用\n",
        "dic={}\n",
        "x=sorted(university_dic.values())\n",
        "y=sorted(university_dic.keys())\n",
        "for i in range(len(x)):\n",
        "  for s in range(len(y)):\n",
        "   if(university_dic[y[s]]==x[i]):\n",
        "    dic[y[s]]=x[i]\n",
        "print(dic)\n"
      ],
      "metadata": {
        "id": "ficNVfkgR5Kv",
        "outputId": "3a99f06b-f0b3-4b77-cbde-073b6a443d56",
        "colab": {
          "base_uri": "https://localhost:8080/"
        }
      },
      "execution_count": 22,
      "outputs": [
        {
          "output_type": "stream",
          "name": "stdout",
          "text": [
            "{'Hakodate': 23, 'Chitose': 25, 'Muroran': 74, 'Hokudai': 105}\n"
          ]
        }
      ]
    },
    {
      "cell_type": "markdown",
      "source": [
        "## 課題5"
      ],
      "metadata": {
        "id": "QijnXk7UWAVC"
      }
    },
    {
      "cell_type": "markdown",
      "source": [
        "**FizzBuzz（フィズ・バズ）問題**という問題について解いていきます。\n",
        "\n",
        "もともとは、英語圏で長距離ドライブ中や飲み会の時に行われる言葉遊びです。"
      ],
      "metadata": {
        "id": "m7F47Q1mWCA6"
      }
    },
    {
      "cell_type": "markdown",
      "source": [
        "以下のような問題になります。\n",
        "\n",
        "1～Nまでの整数を順に出力しなさい。ただし、例外として以下のルールを守ること。\n",
        "\n",
        "* 3で割り切れる数字の場合はFizzを出力\n",
        "* 5で割り切れる数字の場合はBuzzを出力\n",
        "* 7で割り切れる数字の場合はJazzを出力\n",
        "* 複数条件が当てはまる場合は組み合わせて出力（ \"FizzBuzz\", \"FizzJazz\", \"BuzzJazz\" など）"
      ],
      "metadata": {
        "id": "fArw0VcNWgwZ"
      }
    },
    {
      "cell_type": "markdown",
      "source": [
        "ここでは N=100として、まずは一つのリストに  \n",
        "\"Fizz\" か \"Buzz\" か \"Jazz\" か \"組み合わさったもの\" か \"others\" を格納してください。\n",
        "\n",
        "その後、それぞれの要素の数をカウントし、ディクショナリの形で出力してください。"
      ],
      "metadata": {
        "id": "SYqkpYstWm7Z"
      }
    },
    {
      "cell_type": "markdown",
      "source": [
        "＜実行結果例＞  \n",
        "``` py\n",
        "{'Fizz': 23, 'Buzz': 12, 'Jazz': 8, 'FizzBuzz': 6, 'FizzJazz': 4, 'BuzzJazz': 2, 'others': 45}\n",
        "```"
      ],
      "metadata": {
        "id": "OqLuJTcWYzFt"
      }
    },
    {
      "cell_type": "code",
      "source": [
        "# 入力用\n",
        "import random\n",
        "N=100\n",
        "dic={}\n",
        "x=[]\n",
        "\n",
        "for i in range(N):\n",
        "  if(i%35==0):\n",
        "    x.append('BuzzJazz')\n",
        "  elif(i%21==0):\n",
        "    x.append('FizzJazz')\n",
        "  elif(i%15==0):\n",
        "    x.append('FizzBuzz')\n",
        "  elif(i%3==0):\n",
        "    x.append('Fizz')\n",
        "  elif(i%5==0):\n",
        "    x.append('Buzz')\n",
        "  elif(i%7==0):\n",
        "    x.append('Jazz')\n",
        "  else:\n",
        "    x.append('other')\n",
        "\n",
        "dic['Fizz']=x.count('Fizz')\n",
        "dic['Buzz']=x.count('Buzz')\n",
        "dic['Jazz']=x.count('Jazz')\n",
        "dic['FizzJazz']=x.count('FizzJazz')\n",
        "dic['FizzBuzz']=x.count('FizzBuzz')\n",
        "dic['BuzzJazz']=x.count('BuzzJazz')\n",
        "dic['other']=x.count('other')\n",
        "print(dic)\n",
        "     \n"
      ],
      "metadata": {
        "id": "BLYbI0E48o2G",
        "outputId": "d73de51a-ce5e-4c68-f2ec-656317ad95cd",
        "colab": {
          "base_uri": "https://localhost:8080/"
        }
      },
      "execution_count": 27,
      "outputs": [
        {
          "output_type": "stream",
          "name": "stdout",
          "text": [
            "{'Fizz': 23, 'Buzz': 11, 'Jazz': 8, 'FizzJazz': 4, 'FizzBuzz': 6, 'BuzzJazz': 3, 'other': 45}\n"
          ]
        }
      ]
    },
    {
      "cell_type": "code",
      "source": [],
      "metadata": {
        "id": "lVZqhHLJ1BWR"
      },
      "execution_count": null,
      "outputs": []
    }
  ]
}